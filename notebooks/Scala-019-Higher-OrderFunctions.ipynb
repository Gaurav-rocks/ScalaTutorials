{
 "cells": [
  {
   "cell_type": "markdown",
   "metadata": {},
   "source": [
    "<h1 style=\"text-align:center;\"> Scala-019 - Higher Order Functions </h1>\n",
    "\n",
    "This tutorial covers Higher Order Function syntax in Scala. The notebook is a companion for the Video Tutorial. \n",
    "\n",
    "A complete video compilation is available @ [Youtube](https://www.youtube.com/playlist?list=PLkz1SCf5iB4dZ2RNKCu7W9o2OtZweGY6x). "
   ]
  },
  {
   "cell_type": "markdown",
   "metadata": {},
   "source": [
    "## Higher-Order Functions"
   ]
  },
  {
   "cell_type": "markdown",
   "metadata": {},
   "source": [
    "Higher-order functions in Scala can do following things.\n",
    "1. They can take a function as an argument.\n",
    "2. They can return a function as a value."
   ]
  },
  {
   "cell_type": "markdown",
   "metadata": {},
   "source": [
    "### How to create a function that takes another function as an argument?"
   ]
  },
  {
   "cell_type": "markdown",
   "metadata": {},
   "source": [
    "You can do this by defining an argument type annotation as a function type."
   ]
  },
  {
   "cell_type": "markdown",
   "metadata": {},
   "source": [
    "#### Example"
   ]
  },
  {
   "cell_type": "code",
   "execution_count": 1,
   "metadata": {
    "collapsed": true
   },
   "outputs": [],
   "source": [
    "def intDecorator(x:Int, f: Int => String) = f(x)"
   ]
  },
  {
   "cell_type": "markdown",
   "metadata": {},
   "source": [
    "The argument ***f*** has a function type (***Int => String***). \n",
    "\n",
    "So the ***intDecorator*** takes a function as a second argument. The type of the function must be ***Int => String***. \n",
    "\n",
    "You can call it as shown below."
   ]
  },
  {
   "cell_type": "code",
   "execution_count": 6,
   "metadata": {},
   "outputs": [
    {
     "data": {
      "text/plain": [
       "[5]"
      ]
     },
     "execution_count": 6,
     "metadata": {},
     "output_type": "execute_result"
    }
   ],
   "source": [
    "intDecorator(5, (y:Int) => \"[\" + y + \"]\" )"
   ]
  },
  {
   "cell_type": "markdown",
   "metadata": {},
   "source": [
    "### How to create a function that returns another function?"
   ]
  },
  {
   "cell_type": "markdown",
   "metadata": {},
   "source": [
    "You can do this by creating a ***function literal*** (anonymous function) as the last statement of a function."
   ]
  },
  {
   "cell_type": "markdown",
   "metadata": {},
   "source": [
    "#### Example"
   ]
  },
  {
   "cell_type": "code",
   "execution_count": 2,
   "metadata": {
    "collapsed": true
   },
   "outputs": [],
   "source": [
    "def greetSomeone(prefix:String) = { \n",
    "    println(\"Got a prefix \" + prefix)\n",
    "    (name:String) => println(prefix + \" \" + name)\n",
    "}"
   ]
  },
  {
   "cell_type": "markdown",
   "metadata": {},
   "source": [
    "The last statement of the function is a *function literal*. Scala will automatically return the result of the last expression, i.e., It will return a function value. \n",
    "\n",
    "You can call this function as shown below."
   ]
  },
  {
   "cell_type": "code",
   "execution_count": 3,
   "metadata": {},
   "outputs": [
    {
     "name": "stdout",
     "output_type": "stream",
     "text": [
      "Got a prefix Hello\n",
      "Hello Prashant\n"
     ]
    }
   ],
   "source": [
    "val hiSomeone = greetSomeone(\"Hello\")\n",
    "hiSomeone(\"Prashant\")"
   ]
  },
  {
   "cell_type": "markdown",
   "metadata": {},
   "source": [
    "<h1 style=\"text-align:center;\"> Practice Exercise </h1>\n",
    "*****************************"
   ]
  },
  {
   "cell_type": "markdown",
   "metadata": {},
   "source": [
    "### 1. Exercise\n",
    "\n",
    "Create a function that takes an integer *x* as an input, and then it does following things.\n",
    "1. Print the SQRT of the input parameter *x*\n",
    "2. Returns a function that takes another integer *y* as input\n",
    "\n",
    "The returned function computes and returns the SQRT of *x + y*"
   ]
  },
  {
   "cell_type": "markdown",
   "metadata": {},
   "source": [
    "### 2. Exercise\n",
    "\n",
    "A function definition is given below.\n",
    "How can you return a local function f2?"
   ]
  },
  {
   "cell_type": "code",
   "execution_count": 4,
   "metadata": {
    "collapsed": true
   },
   "outputs": [],
   "source": [
    "def f1(x:Int) = {\n",
    "     println(s\"SQRT of $x is \" + Math.sqrt(x))\n",
    "     def f2(y:Int) = Math.sqrt(x+y)\n",
    "}"
   ]
  },
  {
   "cell_type": "markdown",
   "metadata": {},
   "source": [
    "### 3. Exercise\n",
    "\n",
    "A function definition is given below.\n",
    "Create an equivalent function by removing all optional parts."
   ]
  },
  {
   "cell_type": "code",
   "execution_count": 5,
   "metadata": {},
   "outputs": [
    {
     "data": {
      "text/plain": [
       "4.47213595499958"
      ]
     },
     "execution_count": 5,
     "metadata": {},
     "output_type": "execute_result"
    }
   ],
   "source": [
    "val f1: Int => (Int => Double) = (x:Int) => (y:Int) => Math.sqrt(x+y)\n",
    "f1(4)(16)"
   ]
  },
  {
   "cell_type": "markdown",
   "metadata": {},
   "source": [
    "### 4. Exercise\n",
    "\n",
    "A function definition is given below.\n",
    "Create an equivalent function by removing all optional parts."
   ]
  },
  {
   "cell_type": "code",
   "execution_count": 6,
   "metadata": {},
   "outputs": [
    {
     "data": {
      "text/plain": [
       "Hi There"
      ]
     },
     "execution_count": 6,
     "metadata": {},
     "output_type": "execute_result"
    }
   ],
   "source": [
    "val fs:String => (String => String) = (prefix: String) => {(s: String) => { prefix + \" \" + s } }\n",
    "fs(\"Hi\")(\"There\")"
   ]
  },
  {
   "cell_type": "markdown",
   "metadata": {},
   "source": [
    "### 5. Exercise\n",
    "\n",
    "Can you create a function that can be called as given below.\n",
    "\n",
    "```scala\n",
    "fs1(\"Hi\")()\n",
    "\n",
    "Output : - Hi There\n",
    "```"
   ]
  },
  {
   "cell_type": "markdown",
   "metadata": {},
   "source": [
    "### 6. Exercise\n",
    "\n",
    "Create an integer decorator function that takes an integer and also takes a function.\n",
    "The function converts an integer to a decorated string as given below.\n",
    "```scala\n",
    "intDecorator(5, (y:Int) => \"<b>\" + y + \"</b>\" )\n",
    "\n",
    "Output - <b>5</b>\n",
    "```"
   ]
  },
  {
   "cell_type": "markdown",
   "metadata": {},
   "source": [
    "### 7. Exercise\n",
    "\n",
    "Take the function call from *Exercise 6*."
   ]
  },
  {
   "cell_type": "code",
   "execution_count": 7,
   "metadata": {},
   "outputs": [
    {
     "data": {
      "text/plain": [
       "<b>5</b>"
      ]
     },
     "execution_count": 7,
     "metadata": {},
     "output_type": "execute_result"
    }
   ],
   "source": [
    "intDecorator(5, (y:Int) => \"<b>\" + y + \"</b>\" )"
   ]
  },
  {
   "cell_type": "markdown",
   "metadata": {},
   "source": [
    "Change this call to use a placeholder syntax."
   ]
  },
  {
   "cell_type": "markdown",
   "metadata": {},
   "source": [
    "### 8. Exercise\n",
    "\n",
    "Create a function SumX. It should take three parameters. The first two parameters are integer. The second parameter is the logic to calculate sum of first two parameters. You should be able to use the function to calculate sum of cubes of first two parameters as shown below.\n",
    "```scala\n",
    "sumX(3,5, (x,y) => x*x*x + y*y*y )\n",
    "```"
   ]
  },
  {
   "cell_type": "markdown",
   "metadata": {},
   "source": [
    "### 9. Exercise\n",
    "\n",
    "Take the function definition call for *Exercise 8*. Call it using placeholder syntax."
   ]
  },
  {
   "cell_type": "markdown",
   "metadata": {},
   "source": [
    "### 10. Exercise\n",
    "\n",
    "Create a function *greetSomeone(prefix:String)*. It should return another function. The returned function will take another string and print a greeting message.\n",
    "\n",
    "Here is an example of using the greetSomeone.\n",
    "```scala\n",
    "val helloSomeone = greetSomeone(\"Hello\")\n",
    "helloSomeone(\"Prashant\")\n",
    "\n",
    "Output:- Hello Prashant\n",
    "```"
   ]
  },
  {
   "cell_type": "markdown",
   "metadata": {},
   "source": [
    "<h1 style=\"text-align:center;\"> Solutions </h1>\n",
    "***************************"
   ]
  },
  {
   "cell_type": "markdown",
   "metadata": {},
   "source": [
    "### 1. Solution"
   ]
  },
  {
   "cell_type": "markdown",
   "metadata": {},
   "source": [
    "**Using def Syntax**"
   ]
  },
  {
   "cell_type": "code",
   "execution_count": 10,
   "metadata": {
    "collapsed": true
   },
   "outputs": [],
   "source": [
    "def f1(x:Int) = {\n",
    "     println(s\"SQRT of $x is \" + Math.sqrt(x))\n",
    "     (y:Int) => Math.sqrt(x+y)\n",
    "}"
   ]
  },
  {
   "cell_type": "markdown",
   "metadata": {},
   "source": [
    "You can call it using below method"
   ]
  },
  {
   "cell_type": "code",
   "execution_count": 11,
   "metadata": {},
   "outputs": [
    {
     "name": "stdout",
     "output_type": "stream",
     "text": [
      "SQRT of 4 is 2.0\n"
     ]
    },
    {
     "data": {
      "text/plain": [
       "4.47213595499958"
      ]
     },
     "execution_count": 11,
     "metadata": {},
     "output_type": "execute_result"
    }
   ],
   "source": [
    "val f2 = f1(4)\n",
    "f2(16)"
   ]
  },
  {
   "cell_type": "markdown",
   "metadata": {},
   "source": [
    "**Using literal Syntax**"
   ]
  },
  {
   "cell_type": "code",
   "execution_count": 12,
   "metadata": {
    "collapsed": true
   },
   "outputs": [],
   "source": [
    "val f1 = (x:Int) => {\n",
    "     println(s\"SQRT of $x is \" + Math.sqrt(x))\n",
    "     (y:Int) => Math.sqrt(x+y)\n",
    "}"
   ]
  },
  {
   "cell_type": "markdown",
   "metadata": {},
   "source": [
    "You can call it as shown in above example. You can also call it using a chain of functions"
   ]
  },
  {
   "cell_type": "code",
   "execution_count": 13,
   "metadata": {},
   "outputs": [
    {
     "name": "stdout",
     "output_type": "stream",
     "text": [
      "SQRT of 4 is 2.0\n"
     ]
    },
    {
     "data": {
      "text/plain": [
       "4.47213595499958"
      ]
     },
     "execution_count": 13,
     "metadata": {},
     "output_type": "execute_result"
    }
   ],
   "source": [
    "f1(4)(16)"
   ]
  },
  {
   "cell_type": "markdown",
   "metadata": {},
   "source": [
    "#### Discussion"
   ]
  },
  {
   "cell_type": "markdown",
   "metadata": {},
   "source": [
    "Both the examples are same and using the same technique to return a function. They create a local anonymous function as the last expression, and Scala will automatically return the last expression. So, if you want to return a function from a Higher Order function, all you have to do is to create an anonymous local function as the last expression."
   ]
  },
  {
   "cell_type": "markdown",
   "metadata": {},
   "source": [
    "#### Caution"
   ]
  },
  {
   "cell_type": "markdown",
   "metadata": {},
   "source": [
    "You must use an anonymous function. If you give it a name, it becomes an ordinary local function."
   ]
  },
  {
   "cell_type": "markdown",
   "metadata": {},
   "source": [
    "### 2. Solution"
   ]
  },
  {
   "cell_type": "code",
   "execution_count": 14,
   "metadata": {
    "collapsed": true
   },
   "outputs": [],
   "source": [
    "def f1(x:Int) = {\n",
    "     println(s\"SQRT of $x is \" + Math.sqrt(x))\n",
    "     def f2(y:Int) = Math.sqrt(x+y)\n",
    "     f2 _\n",
    "}"
   ]
  },
  {
   "cell_type": "code",
   "execution_count": 15,
   "metadata": {},
   "outputs": [
    {
     "name": "stdout",
     "output_type": "stream",
     "text": [
      "SQRT of 4 is 2.0\n"
     ]
    },
    {
     "data": {
      "text/plain": [
       "4.47213595499958"
      ]
     },
     "execution_count": 15,
     "metadata": {},
     "output_type": "execute_result"
    }
   ],
   "source": [
    "f1(4)(16)"
   ]
  },
  {
   "cell_type": "markdown",
   "metadata": {},
   "source": [
    "#### Discussion"
   ]
  },
  {
   "cell_type": "markdown",
   "metadata": {},
   "source": [
    "You can use partially applied function to return an ordinary local function."
   ]
  },
  {
   "cell_type": "markdown",
   "metadata": {},
   "source": [
    "### 3. Solution"
   ]
  },
  {
   "cell_type": "code",
   "execution_count": 18,
   "metadata": {},
   "outputs": [
    {
     "data": {
      "text/plain": [
       "4.47213595499958"
      ]
     },
     "execution_count": 18,
     "metadata": {},
     "output_type": "execute_result"
    }
   ],
   "source": [
    "val f1 = (x:Int) => (y:Int) => Math.sqrt(x+y)\n",
    "f1(4)(16)"
   ]
  },
  {
   "cell_type": "markdown",
   "metadata": {},
   "source": [
    "#### Discussion"
   ]
  },
  {
   "cell_type": "markdown",
   "metadata": {},
   "source": [
    "We can remove the value type annotation. It starts from \":\" and goes upto the \"=\" symbol."
   ]
  },
  {
   "cell_type": "markdown",
   "metadata": {},
   "source": [
    "### 4. Solution"
   ]
  },
  {
   "cell_type": "code",
   "execution_count": 20,
   "metadata": {},
   "outputs": [
    {
     "data": {
      "text/plain": [
       "Hi There"
      ]
     },
     "execution_count": 20,
     "metadata": {},
     "output_type": "execute_result"
    }
   ],
   "source": [
    "val fs = (prefix: String) => (s: String) => prefix + \" \" + s\n",
    "fs(\"Hi\")(\"There\")"
   ]
  },
  {
   "cell_type": "markdown",
   "metadata": {},
   "source": [
    "### 5. Solution"
   ]
  },
  {
   "cell_type": "code",
   "execution_count": 21,
   "metadata": {},
   "outputs": [
    {
     "data": {
      "text/plain": [
       "Hi There"
      ]
     },
     "execution_count": 21,
     "metadata": {},
     "output_type": "execute_result"
    }
   ],
   "source": [
    "val fs1 = (prefix: String) => { () => prefix + \" \" + \"There\" }\n",
    "fs1(\"Hi\")()"
   ]
  },
  {
   "cell_type": "markdown",
   "metadata": {},
   "source": [
    "### 6. Solution"
   ]
  },
  {
   "cell_type": "code",
   "execution_count": 2,
   "metadata": {},
   "outputs": [
    {
     "data": {
      "text/plain": [
       "<b>5</b>"
      ]
     },
     "execution_count": 2,
     "metadata": {},
     "output_type": "execute_result"
    }
   ],
   "source": [
    "def intDecorator(x:Int, f: Int => String) = f(x)\n",
    "intDecorator(5, (y:Int) => \"<b>\" + y + \"</b>\" )"
   ]
  },
  {
   "cell_type": "markdown",
   "metadata": {},
   "source": [
    "### 7. Solution"
   ]
  },
  {
   "cell_type": "code",
   "execution_count": 3,
   "metadata": {},
   "outputs": [
    {
     "data": {
      "text/plain": [
       "<b>5</b>"
      ]
     },
     "execution_count": 3,
     "metadata": {},
     "output_type": "execute_result"
    }
   ],
   "source": [
    "intDecorator(5, \"<b>\" + _ + \"</b>\" )"
   ]
  },
  {
   "cell_type": "markdown",
   "metadata": {},
   "source": [
    "### 8. Solution"
   ]
  },
  {
   "cell_type": "code",
   "execution_count": 6,
   "metadata": {},
   "outputs": [
    {
     "data": {
      "text/plain": [
       "152"
      ]
     },
     "execution_count": 6,
     "metadata": {},
     "output_type": "execute_result"
    }
   ],
   "source": [
    "def sumX(x:Int,y:Int,f: (Int,Int) => Int) = f(x,y)\n",
    "sumX(3,5, (x,y) => x*x*x + y*y*y )\n"
   ]
  },
  {
   "cell_type": "markdown",
   "metadata": {},
   "source": [
    "### 9. Solution"
   ]
  },
  {
   "cell_type": "markdown",
   "metadata": {},
   "source": [
    "We can't use placeholder syntax in this case because we will need six underscores. That will violate the rule that the number of input parameters must be equal to the number of underscores."
   ]
  },
  {
   "cell_type": "markdown",
   "metadata": {},
   "source": [
    "### 10. Solution"
   ]
  },
  {
   "cell_type": "code",
   "execution_count": 17,
   "metadata": {},
   "outputs": [
    {
     "name": "stdout",
     "output_type": "stream",
     "text": [
      "Hello Prashant\n"
     ]
    }
   ],
   "source": [
    "def greetSomeone(prefix:String) = (name:String) => println(prefix + \" \" + name)\n",
    "val helloSomeone = greetSomeone(\"Hello\")\n",
    "helloSomeone(\"Prashant\")"
   ]
  },
  {
   "cell_type": "markdown",
   "metadata": {},
   "source": [
    "# What's Next\n",
    "\n",
    "1. Download this Notebook from nbviewer [NB Viewer](https://nbviewer.jupyter.org/github/LearningJournal/ScalaTutorials/blob/master/notebooks/Scala-019-Higher-OrderFunctions.ipynb)\n",
    "3. Get more video tutorials - [Learning Journal @ Youtube](http://www.youtube.com/learningjournalin)"
   ]
  }
 ],
 "metadata": {
  "kernelspec": {
   "display_name": "Apache Toree - Scala",
   "language": "scala",
   "name": "apache_toree_scala"
  },
  "language_info": {
   "file_extension": ".scala",
   "name": "scala",
   "version": "2.11.8"
  }
 },
 "nbformat": 4,
 "nbformat_minor": 2
}
