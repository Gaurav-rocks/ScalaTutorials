{
 "cells": [
  {
   "cell_type": "markdown",
   "metadata": {},
   "source": [
    "<h1 style=\"text-align:center;\">Scala-020 - VarArgs, Named Arguments & Default Values</h1>\n",
    "\n",
    "This tutorial covers following concepts\n",
    "1. Variable length argument.\n",
    "2. Named arguments.\n",
    "3. Default values. \n",
    "\n",
    "This notebook is a companion for the Video Tutorial. \n",
    "\n",
    "A complete video compilation is available @ [Youtube](http://www.youtube.com/learningjournalin)."
   ]
  },
  {
   "cell_type": "markdown",
   "metadata": {},
   "source": [
    "## Variable length arguments\n",
    "The variable length argument allows you to indicate that the last argument of a function can take multiple values.\n",
    " ### Example\n",
    "\n",
    "\n",
    "```scala\n",
    "def echo(s:String*) = s foreach println\n",
    "```\n",
    "\n",
    "The * indicates that the argument takes multiple values. \n",
    "\n",
    "You can use it as shown below.\n",
    "\n",
    "\n",
    "```scala\n",
    "echo(\"One\",\"Two\",\"Three\")\n",
    "```\n",
    "\n",
    "You can pass as many arguments as you want.\n",
    "\n",
    "\n",
    "```scala\n",
    "echo(\"One\",\"Two\",\"Three\", \"Four\", \"Five\")\n",
    "```\n",
    "\n",
    "### Observations\n",
    "\n",
    "You should remember three important observations.\n",
    "\n",
    "1. The repeating argument must be the last argument.\n",
    "2. All of repeating argument values must be of same data type.\n",
    "3. Scala will collect all the argument values and pass them to the function body as an array. In the above example, s is an array of strings."
   ]
  },
  {
   "cell_type": "markdown",
   "metadata": {},
   "source": [
    "## Named arguments\n",
    "\n",
    "In Scala, while calling a function, you can use the argument name. Using the argument name allows you to change the order of the arguments. \n",
    "\n",
    "### Example\n",
    "Let's take a simple function definition as shown below.\n",
    "\n",
    "\n",
    "```scala\n",
    "def doSomething(f: String  => Unit, s:String) = f(s)\n",
    "```\n",
    "\n",
    "While calling this function, you can pass the arguments in the order of definition.\n",
    "```scala\n",
    "doSomething(x => println(\"[\" + x + \"]\") , \"Hi There!\")\n",
    "```\n",
    "The first argument is a function, and the next one is a string. If you want to change the order of the parameter values, you must use the argument names. The example shown below uses the argument names.\n",
    "\n",
    "```scala\n",
    "doSomething(s=\"Hi There!\", f=x => println(\"[\" + x + \"]\") )\n",
    "```"
   ]
  },
  {
   "cell_type": "markdown",
   "metadata": {},
   "source": [
    "## Default Values\n",
    "\n",
    "Scala allows you to assign a default value to a parameter using an equal to symbol.\n",
    "\n",
    "The below example assigns ***println*** as a default value to ***f***.\n",
    "\n",
    "\n",
    "```scala\n",
    "def doSomething(f: String  => Unit=println, s:String) = f(s)\n",
    "```\n",
    "\n",
    "Now you can skip the value of ***f*** and pass only second argument using a named argument syntax.\n",
    "Scala will take ***println*** as a value for the argument f.\n",
    "\n",
    "\n",
    "```scala\n",
    "doSomething(s=\"Hi There!\")\n",
    "```"
   ]
  },
  {
   "cell_type": "markdown",
   "metadata": {},
   "source": [
    "<h1 style=\"text-align:center;\"> Practice Exercise </h1>"
   ]
  },
  {
   "cell_type": "markdown",
   "metadata": {},
   "source": [
    "### 1. Exercise \n",
    "\n",
    "Given this function definition.\n",
    "```scala\n",
    "def echo(s:String*) = s foreach println\n",
    "```\n",
    "What is the output of below code?\n",
    "```scala\n",
    "echo(\"One\",\"Two\",3, \"Four\", \"Five\")\n",
    "```\n",
    "\n",
    "### 2. Exercise \n",
    "\n",
    "What is the output of below code.\n",
    "```scala\n",
    "def echo(s:String*, i:Int) = s foreach println\n",
    "echo(\"One\",\"Two\",\"Three\", 5)\n",
    "```\n",
    "\n",
    "### 3. Exercise\n",
    "\n",
    "Is the below code valid? Reason your answer.\n",
    "```scala\n",
    "def echo2(s:String*, i:Int*) = s foreach println\n",
    "```\n",
    "### 4. Exercise\n",
    "\n",
    "Can we have two variable length arguments in a single function. If your answer is yes, give an example.\n",
    "\n",
    "### 5. Exercise\n",
    "\n",
    "Is the below code valid? Reason your answer.\n",
    "\n",
    "```scala\n",
    "def echo(s:String*) = s foreach println\n",
    "echo()\n",
    "```\n",
    "\n",
    "### 6. Exercise\n",
    "\n",
    "Take the below code.\n",
    "\n",
    "```scala\n",
    "def echo(s:String*) = s foreach println\n",
    "val cities = List(\"Bangalore\",\"London\",\"New York City\")\n",
    "```\n",
    "Write a code to pass all the elements of the cities to the ***echo*** function.\n",
    "\n",
    "\n",
    "### 7. Exercise\n",
    "\n",
    "What is the output of below code.\n",
    "\n",
    "```scala\n",
    "def echo(i:Int, s:String*) = { \n",
    "   println(i)\n",
    "   s foreach println\n",
    "}\n",
    "echo(3,\"Bangalore\",\"London\",\"New York City\")\n",
    "```\n",
    "\n",
    "### 8. Exercise\n",
    "\n",
    "Identify the problem with the below code?\n",
    "```scala\n",
    "def echo(i:Int = 3, s:String*) = { \n",
    "   println(i)\n",
    "   s foreach println\n",
    "}\n",
    "echo(\"Bangalore\",\"London\",\"New York City\")\n",
    "```\n",
    "\n",
    "### 9. Exercise\n",
    "\n",
    "Do you see any problems in the code given below? Explain your answer.\n",
    "\n",
    "```scala\n",
    "def printName(first: String, last: String): Unit = {\n",
    "  println(first + \" \" + last)\n",
    "}\n",
    "\n",
    "printName(last = \"Pandey\", \"Prashant\")\n",
    "```\n",
    "\n",
    "### 10. Exercise\n",
    "\n",
    "Assume the function definition as shown below.\n",
    "\n",
    "```scala\n",
    "def printName(first: String = \"Prashant\", last: String = \"Pandey\"): Unit = {\n",
    "  println(first + \" \" + last)\n",
    "}\n",
    "```\n",
    "\n",
    "What is the output of below function calls. Explain your answers.\n",
    "```scala\n",
    "1.  printName()\n",
    "2.  printName\n",
    "3.  printName(\"John\",\"Trivolta\")\n",
    "4.  printName(\"Trivolta\",\"John\")\n",
    "5.  printName(last = \"Trivolta\",\"John\")\n",
    "6.  printName(first = \"Trivolta\",\"John\")\n",
    "7.  printName(\"John\",last = \"Trivolta\")\n",
    "8.  printName(last = \"Trivolta\")\n",
    "9.  printName(first = \"John\")\n",
    "10. printName(\"John\",null)\n",
    "11. printName(first = null)\n",
    "```"
   ]
  },
  {
   "cell_type": "markdown",
   "metadata": {},
   "source": [
    "<h1 style=\"text-align:center;\"> Solution </h1>"
   ]
  },
  {
   "cell_type": "markdown",
   "metadata": {},
   "source": [
    "### 1. Solution\n",
    "The given code is incorrect. The variable argument ***s*** is an string so we can't pass an integer value. The correct code should be as shown below.\n",
    "```scala\n",
    "echo(\"One\",\"Two\",\"3\", \"Four\", \"Five\")\n",
    "```"
   ]
  },
  {
   "cell_type": "markdown",
   "metadata": {},
   "source": [
    "### 2. Solution\n",
    "The given code is incorrect. The variable argument ***s*** must be the last argument."
   ]
  },
  {
   "cell_type": "markdown",
   "metadata": {},
   "source": [
    "### 3. Solution\n",
    "The given code is incorrect. This code will show an error that the variable argument must be the last argument. However, you can achive the same thing using the function currying. Check the next question for an example."
   ]
  },
  {
   "cell_type": "markdown",
   "metadata": {},
   "source": [
    "### 4. Solution\n",
    "Yes you can do that. However you must break your parameters in two groups and use function currying syntax.\n",
    "The below code shows an example.\n",
    "```scala\n",
    "def echo2(s:String*)(i:Int*) = {\n",
    "   s foreach println\n",
    "   i foreach println\n",
    "}\n",
    "```\n",
    "You can call it using below method.\n",
    "```scala\n",
    "echo2(\"Bangalore\",\"London\",\"New York City\")(1,2,3)\n",
    "println(\"----------------------\")\n",
    "echo2(\"Bangalore\",\"London\",\"New York City\")()\n",
    "println(\"----------------------\")\n",
    "echo2()(1,2,3)\n",
    "println(\"----------------------\")\n",
    "echo2()()\n",
    "```"
   ]
  },
  {
   "cell_type": "markdown",
   "metadata": {},
   "source": [
    "### 5. Solution\n",
    "Yes, The code is valid because VarArgs can take no or multiple parameters."
   ]
  },
  {
   "cell_type": "markdown",
   "metadata": {},
   "source": [
    "### 6. Solution\n",
    "\n",
    "Cities is a list. If you want to pass all the elements of a collection to a VarArgs parameter, You can do it as shown below.\n",
    "```scala\n",
    "echo(cities:_*)\n",
    "```\n",
    "Variable arguments are often used with `_*`. The `_*` is a hint to the compiler to pass the elements of ***cities*** to a function instead of the ***cities*** itself.\n",
    "The colon (:) used before _* is the type ascription. "
   ]
  },
  {
   "cell_type": "markdown",
   "metadata": {},
   "source": [
    "### 7. Solution\n",
    "The code is simple. It will print 3 and then it will print the name of three cities."
   ]
  },
  {
   "cell_type": "markdown",
   "metadata": {},
   "source": [
    "### 8. Solution\n",
    "\n",
    "VarArgs and default values together is not allowed.\n",
    "\n",
    "You will get an error as \"a parameter section with a `*`-parameter is not allowed to have default arguments\""
   ]
  },
  {
   "cell_type": "markdown",
   "metadata": {},
   "source": [
    "### 9. Solution\n",
    "\n",
    "Idealy, you should not mix named arguments and positional arguments. You can mix them as long as the order of named argument is same as the positional.\n",
    "\n",
    "In this example, we swiped the order. Hence it is not allowed."
   ]
  },
  {
   "cell_type": "markdown",
   "metadata": {},
   "source": [
    "### 10. Solution\n",
    "1. This call is perfect. The function call will take default values.\n",
    "2. This call is incorrect. Default value makes it mandatory to use parenthesis.\n",
    "3. This call is perfect. It is using positional parameters.\n",
    "4. This call is perfect. It is using positional parameters.\n",
    "5. This call is incorrect because it is using positional after named argument.\n",
    "6. This call is perfect even if it is using positional after named because the order of named argument is same as positional.\n",
    "7. This call is perfect even if it is using positional after named because the order of named argument is same as positional.\n",
    "8. This call is perfect. The first parameter takes default value and the second one is positional.\n",
    "9. This call is perfect. The first argument takes a positional value and the second one is a default.\n",
    "10. This call is perfect. Both parameters are positional.\n",
    "11. This call is perfect. The first parameter is named and the second one takes a default value."
   ]
  }
 ],
 "metadata": {
  "kernelspec": {
   "display_name": "Apache Toree - Scala",
   "language": "scala",
   "name": "apache_toree_scala"
  },
  "language_info": {
   "file_extension": ".scala",
   "name": "scala",
   "version": "2.11.8"
  }
 },
 "nbformat": 4,
 "nbformat_minor": 2
}
